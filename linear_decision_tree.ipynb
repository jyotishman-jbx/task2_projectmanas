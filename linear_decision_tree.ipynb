{
 "cells": [
  {
   "cell_type": "code",
   "execution_count": 22,
   "id": "b75ba3cd",
   "metadata": {},
   "outputs": [],
   "source": [
    "import pandas as pd\n",
    "import numpy as np\n",
    "from sklearn.model_selection import train_test_split\n",
    "from sklearn.tree import DecisionTreeClassifier\n",
    "from sklearn.metrics import accuracy_score\n",
    "from sklearn import tree\n",
    "\n",
    "df=pd.read_csv('linear_dataset.csv')\n",
    "#df.isnull().sum()"
   ]
  },
  {
   "cell_type": "code",
   "execution_count": 23,
   "id": "64bd7a3f",
   "metadata": {},
   "outputs": [],
   "source": [
    "x=df.values[:,[0,1,2,3,5]]\n",
    "y=df.values[:, 4]\n"
   ]
  },
  {
   "cell_type": "code",
   "execution_count": 24,
   "id": "39dd539d",
   "metadata": {},
   "outputs": [],
   "source": [
    "x_train, x_test, y_train, y_test = train_test_split(x,y, test_size=0.3, random_state=100)"
   ]
  },
  {
   "cell_type": "code",
   "execution_count": 25,
   "id": "bd0dd3de",
   "metadata": {},
   "outputs": [
    {
     "data": {
      "text/plain": [
       "DecisionTreeClassifier(criterion='entropy', max_depth=5, min_samples_leaf=8,\n",
       "                       random_state=100)"
      ]
     },
     "execution_count": 25,
     "metadata": {},
     "output_type": "execute_result"
    }
   ],
   "source": [
    "clf_entropy=DecisionTreeClassifier(criterion='entropy', random_state=100, max_depth=5, min_samples_leaf=8)\n",
    "clf_entropy.fit(x_train, y_train)\n"
   ]
  },
  {
   "cell_type": "code",
   "execution_count": 26,
   "id": "5c14e46a",
   "metadata": {},
   "outputs": [
    {
     "data": {
      "text/plain": [
       "array([ 735, 1153, 1096, 1163, 1193,  607, 2049, 1096, 2936, 1096, 1096,\n",
       "        625, 1096, 2049, 1280,  532,  607, 1280, 1280, 1280, 1280, 1890,\n",
       "        532, 1096, 1280, 1890, 1669, 1669, 1890,  622, 1669,  622, 1280,\n",
       "       1669,  532, 1096, 1280, 1280, 1163, 2936, 1096,  550,  550, 1890,\n",
       "       1096, 1096, 1096, 2049, 1280, 2936,  607, 2835, 2835, 1096,  622,\n",
       "       1669, 2049,  550, 1280, 1280, 1163, 1096, 2049, 1096, 2936,  735,\n",
       "        532, 1280, 1096, 1890,  622, 2835, 1096, 1163, 1280,  622, 2049,\n",
       "       1193,  532, 1280,  735,  622, 1669, 1096, 1096, 1193,  532, 1163,\n",
       "       2049, 1280, 2049, 1163,  622, 1096, 1280, 1153, 1096, 1096, 1096,\n",
       "       1280, 2835, 1096, 1096, 1669, 2100, 1280, 1096, 1163, 1280, 2936,\n",
       "       2049, 1096, 1280, 1890, 2835, 1669, 1280, 1890,  707, 1669,  532,\n",
       "        625, 1096, 1193, 1669, 1096, 1280, 1890,  625, 1096,  622,  550,\n",
       "       1890, 1280, 1280,  532,  607, 1096,  532, 1669, 1163, 1890,  550,\n",
       "        607,  735,  607, 1280, 1163, 1669,  707], dtype=int64)"
      ]
     },
     "execution_count": 26,
     "metadata": {},
     "output_type": "execute_result"
    }
   ],
   "source": [
    "y_pred_en = clf_entropy.predict(x_test)\n",
    "#y_pred = y_pred_en.reshape(-1,1)\n",
    "y_pred_en"
   ]
  },
  {
   "cell_type": "code",
   "execution_count": null,
   "id": "aac54fda",
   "metadata": {},
   "outputs": [],
   "source": []
  },
  {
   "cell_type": "code",
   "execution_count": null,
   "id": "bab46d34",
   "metadata": {},
   "outputs": [],
   "source": []
  }
 ],
 "metadata": {
  "kernelspec": {
   "display_name": "Python 3 (ipykernel)",
   "language": "python",
   "name": "python3"
  },
  "language_info": {
   "codemirror_mode": {
    "name": "ipython",
    "version": 3
   },
   "file_extension": ".py",
   "mimetype": "text/x-python",
   "name": "python",
   "nbconvert_exporter": "python",
   "pygments_lexer": "ipython3",
   "version": "3.9.9"
  }
 },
 "nbformat": 4,
 "nbformat_minor": 5
}
