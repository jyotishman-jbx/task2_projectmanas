{
 "cells": [
  {
   "cell_type": "code",
   "execution_count": 62,
   "id": "47b04c5a",
   "metadata": {},
   "outputs": [],
   "source": [
    "import numpy as np\n",
    "import pandas as pd\n",
    "from sklearn.model_selection import train_test_split\n",
    "from sklearn.preprocessing import StandardScaler\n",
    "from sklearn.metrics import accuracy_score\n",
    "from sklearn import tree\n",
    "from sklearn.tree import DecisionTreeClassifier\n"
   ]
  },
  {
   "cell_type": "code",
   "execution_count": 63,
   "id": "ca12ad95",
   "metadata": {},
   "outputs": [],
   "source": [
    "#reading the data using pandas\n",
    "data = pd.read_csv(\"weatherAUS.csv\")"
   ]
  },
  {
   "cell_type": "code",
   "execution_count": 64,
   "id": "c9127d4c",
   "metadata": {},
   "outputs": [],
   "source": [
    "#droping the rows containing empty values \n",
    "data = data.dropna()\n",
    "\n",
    "#resetting the inex values\n",
    "data = data.reset_index(drop=True)"
   ]
  },
  {
   "cell_type": "code",
   "execution_count": 65,
   "id": "5a69fe38",
   "metadata": {},
   "outputs": [],
   "source": [
    "#converting string columns into integers columns\n",
    "data['RainToday'] = data['RainToday'].map({'Yes': 1, 'No': 0})\n",
    "data['RainTomorrow'] = data['RainTomorrow'].map({'Yes': 1, 'No': 0})"
   ]
  },
  {
   "cell_type": "markdown",
   "id": "def48a4c",
   "metadata": {},
   "source": [
    "#Normalising the data\n",
    "scaler=StandardScaler()\n",
    "data[['MinTemp_T','MaxTemp_T','Rainfall_T','WindGustSpeed_T', 'WindSpeed9am_T', 'WindSpeed3pm_T','Humidity9am_T','Humidity3pm_T','Pressure9am_T','Pressure3pm_T','Cloud9am_T','Cloud3pm_T','Temp9am_T','Temp3pm_T','RainToday_T','RainTomorrow_T']] = scaler.fit_transform(data[['MinTemp','MaxTemp','Rainfall','WindGustSpeed', 'WindSpeed9am', 'WindSpeed3pm','Humidity9am','Humidity3pm','Pressure9am','Pressure3pm','Cloud9am','Cloud3pm','Temp9am','Temp3pm','RainToday','RainTomorrow']])\n",
    "#data['RainToday2']=data['RainToday']\n",
    "#data['RainTomorrow2']=data['RainTomorrow']"
   ]
  },
  {
   "cell_type": "markdown",
   "id": "b7422a92",
   "metadata": {},
   "source": [
    "#moving raintoday and raintomorrow columns to the end\n",
    "\n",
    "column_rtoday = data.pop('RainToday')\n",
    "#insert column using insert(position,column_name,\n",
    "#first_column) function\n",
    "data.insert(-1, 'RainToday', column_rtoday)\n",
    "\n",
    "column_rtomorrow = data.pop('RainTomorrow')\n",
    "#insert column using insert(position,column_name,\n",
    "#first_column) function\n",
    "data.insert(-1, 'RainTomorrow', column_rtomorrow)\n",
    "\n",
    "data"
   ]
  },
  {
   "cell_type": "code",
   "execution_count": 66,
   "id": "356a3b83",
   "metadata": {},
   "outputs": [],
   "source": [
    "#making the variables\n",
    "dt = data.values\n",
    "x = dt[: , [2,3,4,8,11,12,13,14,15,16,17,18,19,20,21]]\n",
    "x = x.astype(int)\n",
    "y = dt[: , 22]\n",
    "y = y.astype(int)\n"
   ]
  },
  {
   "cell_type": "code",
   "execution_count": 67,
   "id": "8a93bc93",
   "metadata": {},
   "outputs": [],
   "source": [
    "#forming the test train split using sklearn\n",
    "x_train, x_test, y_train, y_test = train_test_split(x , y , test_size=0.3 , random_state=0)\n"
   ]
  },
  {
   "cell_type": "code",
   "execution_count": 68,
   "id": "352984cc",
   "metadata": {},
   "outputs": [],
   "source": [
    "#scaling the data\n",
    "scaler = StandardScaler()\n",
    "x_train = scaler.fit_transform(x_train)\n",
    "x_test = scaler.transform(x_test)"
   ]
  },
  {
   "cell_type": "code",
   "execution_count": 69,
   "id": "51f562a7",
   "metadata": {},
   "outputs": [],
   "source": [
    "#training the decision tree model\n",
    "classifier = DecisionTreeClassifier()\n",
    "classifier = classifier.fit(x_train,y_train)"
   ]
  },
  {
   "cell_type": "code",
   "execution_count": 70,
   "id": "3c32fa94",
   "metadata": {},
   "outputs": [
    {
     "name": "stdout",
     "output_type": "stream",
     "text": [
      "Accuracy:\n",
      "78.80775138839655 %\n"
     ]
    }
   ],
   "source": [
    "#predicting the values for the test values\n",
    "y_pred = classifier.predict(x_test)\n",
    "print(\"Accuracy:\")\n",
    "\n",
    "#finding the accurac\n",
    "print(accuracy_score(y_pred, y_test)*100, '%')"
   ]
  },
  {
   "cell_type": "code",
   "execution_count": null,
   "id": "f726d92c",
   "metadata": {},
   "outputs": [],
   "source": []
  }
 ],
 "metadata": {
  "kernelspec": {
   "display_name": "Python 3 (ipykernel)",
   "language": "python",
   "name": "python3"
  },
  "language_info": {
   "codemirror_mode": {
    "name": "ipython",
    "version": 3
   },
   "file_extension": ".py",
   "mimetype": "text/x-python",
   "name": "python",
   "nbconvert_exporter": "python",
   "pygments_lexer": "ipython3",
   "version": "3.9.9"
  }
 },
 "nbformat": 4,
 "nbformat_minor": 5
}
